{
 "cells": [
  {
   "cell_type": "markdown",
   "source": [
    "# Natasha"
   ],
   "metadata": {}
  },
  {
   "cell_type": "markdown",
   "source": [
    "Пользователь явно инициализирует компоненты: загружает предобученные эмбеддинги, передаёт их в конструкторы моделей. Сам вызывает методы segment, tag_morph, parse_syntax для сегментации на токены и предложения, анализа морфологии и синтаксиса.\n"
   ],
   "metadata": {}
  },
  {
   "cell_type": "code",
   "execution_count": 13,
   "source": [
    "from natasha import (\n",
    "    Segmenter,\n",
    "    MorphVocab,\n",
    "    \n",
    "    NewsEmbedding,\n",
    "    NewsMorphTagger,\n",
    "    NewsSyntaxParser,\n",
    "    NewsNERTagger,\n",
    "    \n",
    "    PER,\n",
    "    NamesExtractor,\n",
    "    DatesExtractor,\n",
    "    MoneyExtractor,\n",
    "    AddrExtractor,\n",
    "\n",
    "    Doc\n",
    ")\n",
    "\n",
    "segmenter = Segmenter()\n",
    "morph_vocab = MorphVocab()\n",
    "\n",
    "emb = NewsEmbedding()\n",
    "morph_tagger = NewsMorphTagger(emb)\n",
    "syntax_parser = NewsSyntaxParser(emb)\n",
    "ner_tagger = NewsNERTagger(emb)\n",
    "\n",
    "names_extractor = NamesExtractor(morph_vocab)\n",
    "dates_extractor = DatesExtractor(morph_vocab)\n",
    "money_extractor = MoneyExtractor(morph_vocab)\n",
    "addr_extractor = AddrExtractor(morph_vocab)"
   ],
   "outputs": [],
   "metadata": {}
  },
  {
   "cell_type": "markdown",
   "source": [
    "## Doc"
   ],
   "metadata": {}
  },
  {
   "cell_type": "markdown",
   "source": [
    "`Doc` объект документа, куда передается текст"
   ],
   "metadata": {}
  },
  {
   "cell_type": "code",
   "execution_count": 14,
   "source": [
    "text = 'Посол Израиля на Украине Йоэль Лион признался, что пришел в шок, узнав о решении властей Львовской области объявить 2019 год годом лидера запрещенной в России Организации украинских националистов (ОУН) Степана Бандеры. Свое заявление он разместил в Twitter. «Я не могу понять, как прославление тех, кто непосредственно принимал участие в ужасных антисемитских преступлениях, помогает бороться с антисемитизмом и ксенофобией. Украина не должна забывать о преступлениях, совершенных против украинских евреев, и никоим образом не отмечать их через почитание их исполнителей», — написал дипломат. 11 декабря Львовский областной совет принял решение провозгласить 2019 год в регионе годом Степана Бандеры в связи с празднованием 110-летия со дня рождения лидера ОУН (Бандера родился 1 января 1909 года). В июле аналогичное решение принял Житомирский областной совет. В начале месяца с предложением к президенту страны Петру Порошенко вернуть Бандере звание Героя Украины обратились депутаты Верховной Рады. Парламентарии уверены, что признание Бандеры национальным героем поможет в борьбе с подрывной деятельностью против Украины в информационном поле, а также остановит «распространение мифов, созданных российской пропагандой». Степан Бандера (1909-1959) был одним из лидеров Организации украинских националистов, выступающей за создание независимого государства на территориях с украиноязычным населением. В 2010 году в период президентства Виктора Ющенко Бандера был посмертно признан Героем Украины, однако впоследствии это решение было отменено судом. '\n",
    "doc = Doc(text)\n",
    "doc"
   ],
   "outputs": [
    {
     "output_type": "execute_result",
     "data": {
      "text/plain": [
       "Doc(text='Посол Израиля на Украине Йоэль Лион признался, чт...)"
      ]
     },
     "metadata": {},
     "execution_count": 14
    }
   ],
   "metadata": {}
  },
  {
   "cell_type": "markdown",
   "source": [
    "После применения `segmenter` появляется два новых поля `sents`(предложения) `tokens` (токены):"
   ],
   "metadata": {}
  },
  {
   "cell_type": "code",
   "execution_count": 15,
   "source": [
    "doc.segment(segmenter)\n",
    "display(doc)\n",
    "display(doc.sents[:2])\n",
    "display(doc.tokens[:5])"
   ],
   "outputs": [
    {
     "output_type": "display_data",
     "data": {
      "text/plain": [
       "Doc(text='Посол Израиля на Украине Йоэль Лион признался, чт..., tokens=[...], sents=[...])"
      ]
     },
     "metadata": {}
    },
    {
     "output_type": "display_data",
     "data": {
      "text/plain": [
       "[DocSent(stop=218, text='Посол Израиля на Украине Йоэль Лион признался, чт..., tokens=[...]),\n",
       " DocSent(start=219, stop=257, text='Свое заявление он разместил в Twitter.', tokens=[...])]"
      ]
     },
     "metadata": {}
    },
    {
     "output_type": "display_data",
     "data": {
      "text/plain": [
       "[DocToken(stop=5, text='Посол'),\n",
       " DocToken(start=6, stop=13, text='Израиля'),\n",
       " DocToken(start=14, stop=16, text='на'),\n",
       " DocToken(start=17, stop=24, text='Украине'),\n",
       " DocToken(start=25, stop=30, text='Йоэль')]"
      ]
     },
     "metadata": {}
    }
   ],
   "metadata": {}
  },
  {
   "cell_type": "markdown",
   "source": [
    "После применения `morph_tagger` и `syntax_parser`, токены получают 5 новых полей \n",
    "- `id` (порядковый id в предложении), \n",
    "- `pos` (часть речи), \n",
    "- `feats` (морфологические метки), \n",
    "- `head_id` (), \n",
    "- `rel` ()"
   ],
   "metadata": {}
  },
  {
   "cell_type": "code",
   "execution_count": 16,
   "source": [
    "doc.tag_morph(morph_tagger)\n",
    "doc.parse_syntax(syntax_parser)\n",
    "display(doc.tokens[:5])"
   ],
   "outputs": [
    {
     "output_type": "display_data",
     "data": {
      "text/plain": [
       "[DocToken(stop=5, text='Посол', id='1_1', head_id='1_7', rel='nsubj', pos='NOUN', feats=<Anim,Nom,Masc,Sing>),\n",
       " DocToken(start=6, stop=13, text='Израиля', id='1_2', head_id='1_1', rel='nmod', pos='PROPN', feats=<Inan,Gen,Masc,Sing>),\n",
       " DocToken(start=14, stop=16, text='на', id='1_3', head_id='1_4', rel='case', pos='ADP'),\n",
       " DocToken(start=17, stop=24, text='Украине', id='1_4', head_id='1_1', rel='nmod', pos='PROPN', feats=<Inan,Loc,Fem,Sing>),\n",
       " DocToken(start=25, stop=30, text='Йоэль', id='1_5', head_id='1_1', rel='appos', pos='PROPN', feats=<Anim,Nom,Masc,Sing>)]"
      ]
     },
     "metadata": {}
    }
   ],
   "metadata": {}
  },
  {
   "cell_type": "markdown",
   "source": [
    "После применения `ner_tagger` объект получает поле `spans` с аннотированием PER (персона), LOC (локация), ORG (организация):"
   ],
   "metadata": {}
  },
  {
   "cell_type": "code",
   "execution_count": 17,
   "source": [
    "doc.tag_ner(ner_tagger)\n",
    "display(doc.spans[:5])"
   ],
   "outputs": [
    {
     "output_type": "display_data",
     "data": {
      "text/plain": [
       "[DocSpan(start=6, stop=13, type='LOC', text='Израиля', tokens=[...]),\n",
       " DocSpan(start=17, stop=24, type='LOC', text='Украине', tokens=[...]),\n",
       " DocSpan(start=25, stop=35, type='PER', text='Йоэль Лион', tokens=[...]),\n",
       " DocSpan(start=89, stop=106, type='LOC', text='Львовской области', tokens=[...]),\n",
       " DocSpan(start=152, stop=158, type='LOC', text='России', tokens=[...])]"
      ]
     },
     "metadata": {}
    }
   ],
   "metadata": {}
  },
  {
   "cell_type": "markdown",
   "source": [
    "## Визуализация"
   ],
   "metadata": {}
  },
  {
   "cell_type": "markdown",
   "source": [
    "Обертка <a href=\"https://github.com/natasha/ipymarkup\">Ipymarkup</a> позволяет визуализировать морфологическое, синтаксическое и NER аннотирование. `doc` и `sents` получают три новых метода: `morph.print()`, `syntax.print()` and `ner.print()`.\n",
    "\n",
    "Модуль извлечения именованных сущностей не зависит от результатов морфологического и синтаксического разбора, его можно использовать отдельно."
   ],
   "metadata": {}
  },
  {
   "cell_type": "code",
   "execution_count": 18,
   "source": [
    "doc.ner.print()"
   ],
   "outputs": [
    {
     "output_type": "stream",
     "name": "stdout",
     "text": [
      "Посол Израиля на Украине Йоэль Лион признался, что пришел в шок, узнав\n",
      "      LOC────    LOC──── PER───────                                   \n",
      " о решении властей Львовской области объявить 2019 год годом лидера \n",
      "                   LOC──────────────                                \n",
      "запрещенной в России Организации украинских националистов (ОУН) \n",
      "              LOC─── ORG─────────────────────────────────────── \n",
      "Степана Бандеры. Свое заявление он разместил в Twitter. «Я не могу \n",
      "PER────────────                                ORG────             \n",
      "понять, как прославление тех, кто непосредственно принимал участие в \n",
      "ужасных антисемитских преступлениях, помогает бороться с \n",
      "антисемитизмом и ксенофобией. Украина не должна забывать о \n",
      "                              LOC────                      \n",
      "преступлениях, совершенных против украинских евреев, и никоим образом \n",
      "не отмечать их через почитание их исполнителей», — написал дипломат. \n",
      "11 декабря Львовский областной совет принял решение провозгласить 2019\n",
      "           ORG──────────────────────                                  \n",
      " год в регионе годом Степана Бандеры в связи с празднованием 110-летия\n",
      "                     PER────────────                                  \n",
      " со дня рождения лидера ОУН (Бандера родился 1 января 1909 года). В \n",
      "                        ORG                                         \n",
      "июле аналогичное решение принял Житомирский областной совет. В начале \n",
      "                                ORG────────────────────────           \n",
      "месяца с предложением к президенту страны Петру Порошенко вернуть \n",
      "                                          PER────────────         \n",
      "Бандере звание Героя Украины обратились депутаты Верховной Рады. \n",
      "PER────              LOC────                     ORG───────────  \n",
      "Парламентарии уверены, что признание Бандеры национальным героем \n",
      "                                     PER────                     \n",
      "поможет в борьбе с подрывной деятельностью против Украины в \n",
      "                                                  LOC────   \n",
      "информационном поле, а также остановит «распространение мифов, \n",
      "созданных российской пропагандой». Степан Бандера (1909-1959) был \n",
      "                                   PER───────────                 \n",
      "одним из лидеров Организации украинских националистов, выступающей за \n",
      "                 ORG─────────────────────────────────                 \n",
      "создание независимого государства на территориях с украиноязычным \n",
      "населением. В 2010 году в период президентства Виктора Ющенко Бандера \n",
      "                                               PER─────────── PER──── \n",
      "был посмертно признан Героем Украины, однако впоследствии это решение \n",
      "                             LOC────                                  \n",
      "было отменено судом. \n"
     ]
    }
   ],
   "metadata": {}
  },
  {
   "cell_type": "code",
   "execution_count": 19,
   "source": [
    "sent = doc.sents[0]\n",
    "sent.morph.print()"
   ],
   "outputs": [
    {
     "output_type": "stream",
     "name": "stdout",
     "text": [
      "               Посол NOUN|Animacy=Anim|Case=Nom|Gender=Masc|Number=Sing\n",
      "             Израиля PROPN|Animacy=Inan|Case=Gen|Gender=Masc|Number=Sing\n",
      "                  на ADP\n",
      "             Украине PROPN|Animacy=Inan|Case=Loc|Gender=Fem|Number=Sing\n",
      "               Йоэль PROPN|Animacy=Anim|Case=Nom|Gender=Masc|Number=Sing\n",
      "                Лион PROPN|Animacy=Anim|Case=Nom|Gender=Masc|Number=Sing\n",
      "           признался VERB|Aspect=Perf|Gender=Masc|Mood=Ind|Number=Sing|Tense=Past|VerbForm=Fin|Voice=Mid\n",
      "                   , PUNCT\n",
      "                 что SCONJ\n",
      "              пришел VERB|Aspect=Perf|Gender=Masc|Mood=Ind|Number=Sing|Tense=Past|VerbForm=Fin|Voice=Act\n",
      "                   в ADP\n",
      "                 шок NOUN|Animacy=Inan|Case=Acc|Gender=Masc|Number=Sing\n",
      "                   , PUNCT\n",
      "               узнав VERB|Aspect=Perf|Tense=Past|VerbForm=Conv|Voice=Act\n",
      "                   о ADP\n",
      "             решении NOUN|Animacy=Inan|Case=Loc|Gender=Neut|Number=Sing\n",
      "             властей NOUN|Animacy=Inan|Case=Gen|Gender=Fem|Number=Plur\n",
      "           Львовской ADJ|Case=Gen|Degree=Pos|Gender=Fem|Number=Sing\n",
      "             области NOUN|Animacy=Inan|Case=Gen|Gender=Fem|Number=Sing\n",
      "            объявить VERB|Aspect=Perf|VerbForm=Inf|Voice=Act\n",
      "                2019 ADJ\n",
      "                 год NOUN|Animacy=Inan|Case=Acc|Gender=Masc|Number=Sing\n",
      "               годом NOUN|Animacy=Inan|Case=Ins|Gender=Masc|Number=Sing\n",
      "              лидера NOUN|Animacy=Anim|Case=Gen|Gender=Masc|Number=Sing\n",
      "         запрещенной VERB|Aspect=Perf|Case=Gen|Gender=Fem|Number=Sing|Tense=Past|VerbForm=Part|Voice=Pass\n",
      "                   в ADP\n",
      "              России PROPN|Animacy=Inan|Case=Loc|Gender=Fem|Number=Sing\n",
      "         Организации PROPN|Animacy=Inan|Case=Gen|Gender=Fem|Number=Sing\n",
      "          украинских ADJ|Case=Gen|Degree=Pos|Number=Plur\n",
      "       националистов NOUN|Animacy=Anim|Case=Gen|Gender=Masc|Number=Plur\n",
      "                   ( PUNCT\n",
      "                 ОУН PROPN|Animacy=Inan|Case=Nom|Gender=Fem|Number=Sing\n",
      "                   ) PUNCT\n",
      "             Степана PROPN|Animacy=Anim|Case=Gen|Gender=Masc|Number=Sing\n",
      "             Бандеры PROPN|Animacy=Anim|Case=Gen|Gender=Masc|Number=Sing\n",
      "                   . PUNCT\n"
     ]
    }
   ],
   "metadata": {}
  },
  {
   "cell_type": "code",
   "execution_count": 20,
   "source": [
    "sent.syntax.print()"
   ],
   "outputs": [
    {
     "output_type": "stream",
     "name": "stdout",
     "text": [
      "        ┌──► Посол         nsubj\n",
      "        │    Израиля       \n",
      "        │ ┌► на            case\n",
      "        │ └─ Украине       \n",
      "        │ ┌─ Йоэль         \n",
      "        │ └► Лион          flat:name\n",
      "┌─────┌─└─── признался     \n",
      "│     │ ┌──► ,             punct\n",
      "│     │ │ ┌► что           mark\n",
      "│     └►└─└─ пришел        ccomp\n",
      "│     │   ┌► в             case\n",
      "│     └──►└─ шок           obl\n",
      "│         ┌► ,             punct\n",
      "│ ┌────►┌─└─ узнав         advcl\n",
      "│ │     │ ┌► о             case\n",
      "│ │ ┌───└►└─ решении       obl\n",
      "│ │ │ ┌─└──► властей       nmod\n",
      "│ │ │ │   ┌► Львовской     amod\n",
      "│ │ │ └──►└─ области       nmod\n",
      "│ └─└►┌─┌─── объявить      nmod\n",
      "│     │ │ ┌► 2019          amod\n",
      "│     │ └►└─ год           obj\n",
      "│     └──►┌─ годом         obl\n",
      "│   ┌─────└► лидера        nmod\n",
      "│   │ ┌►┌─── запрещенной   acl\n",
      "│   │ │ │ ┌► в             case\n",
      "│   │ │ └►└─ России        obl\n",
      "│ ┌─└►└─┌─── Организации   nmod\n",
      "│ │     │ ┌► украинских    amod\n",
      "│ │   ┌─└►└─ националистов nmod\n",
      "│ │   │   ┌► (             punct\n",
      "│ │   └►┌─└─ ОУН           parataxis\n",
      "│ │     └──► )             punct\n",
      "│ └──────►┌─ Степана       appos\n",
      "│         └► Бандеры       flat:name\n",
      "└──────────► .             punct\n"
     ]
    }
   ],
   "metadata": {
    "scrolled": false
   }
  },
  {
   "cell_type": "markdown",
   "source": [
    "## Лемматизация"
   ],
   "metadata": {}
  },
  {
   "cell_type": "markdown",
   "source": [
    "Natasha решает задачу лемматизации, использует Pymorphy2 и результаты морфологического разбора.\n",
    "\n",
    "Токены получают метод `lemmatize`, он использует `pos` и `feats` для связи с `morph_tagger` для приведения слова в нормальную форму. `morph_vocab` яляется оберткой <a href=\"https://pymorphy2.readthedocs.io/en/latest/\">Pymorphy2</a>:"
   ],
   "metadata": {}
  },
  {
   "cell_type": "code",
   "execution_count": 21,
   "source": [
    "for token in doc.tokens:\n",
    "    token.lemmatize(morph_vocab)\n",
    "    \n",
    "{_.text: _.lemma for _ in doc.tokens[:10]}"
   ],
   "outputs": [
    {
     "output_type": "execute_result",
     "data": {
      "text/plain": [
       "{'Посол': 'посол',\n",
       " 'Израиля': 'израиль',\n",
       " 'на': 'на',\n",
       " 'Украине': 'украина',\n",
       " 'Йоэль': 'йоэль',\n",
       " 'Лион': 'лион',\n",
       " 'признался': 'признаться',\n",
       " ',': ',',\n",
       " 'что': 'что',\n",
       " 'пришел': 'прийти'}"
      ]
     },
     "metadata": {},
     "execution_count": 21
    }
   ],
   "metadata": {}
  },
  {
   "cell_type": "markdown",
   "source": [
    "## Нормализация"
   ],
   "metadata": {}
  },
  {
   "cell_type": "markdown",
   "source": [
    "Чтобы привести словосочетание к нормальной форме, недостаточно найти леммы отдельных слов, для «МИД России» получится «МИД Россия», для «Организации украинских националистов» — «Организация украинский националист». Natasha использует результаты синтаксического разбора, учитывает связи между словами, нормализует именованные сущности.\n"
   ],
   "metadata": {}
  },
  {
   "cell_type": "code",
   "execution_count": 22,
   "source": [
    "for span in doc.spans:\n",
    "    span.normalize(morph_vocab)\n",
    "    \n",
    "{_.text: _.normal for _ in doc.spans}"
   ],
   "outputs": [
    {
     "output_type": "execute_result",
     "data": {
      "text/plain": [
       "{'Израиля': 'Израиль',\n",
       " 'Украине': 'Украина',\n",
       " 'Йоэль Лион': 'Йоэль Лион',\n",
       " 'Львовской области': 'Львовская область',\n",
       " 'России': 'Россия',\n",
       " 'Организации украинских националистов (ОУН)': 'Организация украинских националистов (ОУН)',\n",
       " 'Степана Бандеры': 'Степан Бандера',\n",
       " 'Twitter': 'Twitter',\n",
       " 'Украина': 'Украина',\n",
       " 'Львовский областной совет': 'Львовский областной совет',\n",
       " 'ОУН': 'ОУН',\n",
       " 'Житомирский областной совет': 'Житомирский областной совет',\n",
       " 'Петру Порошенко': 'Петр Порошенко',\n",
       " 'Бандере': 'Бандера',\n",
       " 'Украины': 'Украина',\n",
       " 'Верховной Рады': 'Верховная Рада',\n",
       " 'Бандеры': 'Бандера',\n",
       " 'Степан Бандера': 'Степан Бандера',\n",
       " 'Организации украинских националистов': 'Организация украинских националистов',\n",
       " 'Виктора Ющенко': 'Виктор Ющенко',\n",
       " 'Бандера': 'Бандера'}"
      ]
     },
     "metadata": {},
     "execution_count": 22
    }
   ],
   "metadata": {
    "scrolled": true
   }
  },
  {
   "cell_type": "markdown",
   "source": [
    "## Fact extraction"
   ],
   "metadata": {}
  },
  {
   "cell_type": "markdown",
   "source": [
    "Natasha находит в тексте имена, названия организаций и топонимов. Для имён в библиотеке есть набор готовых правил для Yargy-парсера, модуль делит нормированные имена на части, из «Виктор Федорович Ющенко» получается {first: Виктор, last: Ющенко, middle: Федорович}."
   ],
   "metadata": {}
  },
  {
   "cell_type": "code",
   "execution_count": 23,
   "source": [
    "for span in doc.spans:\n",
    "    if span.type == PER:\n",
    "        span.extract_fact(names_extractor)\n",
    "    \n",
    "{_.normal: _.fact.as_dict for _ in doc.spans if _.fact}"
   ],
   "outputs": [
    {
     "output_type": "execute_result",
     "data": {
      "text/plain": [
       "{'Йоэль Лион': {'first': 'Йоэль', 'last': 'Лион'},\n",
       " 'Степан Бандера': {'first': 'Степан', 'last': 'Бандера'},\n",
       " 'Петр Порошенко': {'first': 'Петр', 'last': 'Порошенко'},\n",
       " 'Бандера': {'last': 'Бандера'},\n",
       " 'Виктор Ющенко': {'first': 'Виктор', 'last': 'Ющенко'}}"
      ]
     },
     "metadata": {},
     "execution_count": 23
    }
   ],
   "metadata": {}
  },
  {
   "cell_type": "markdown",
   "source": [
    "## `Segmenter`"
   ],
   "metadata": {}
  },
  {
   "cell_type": "markdown",
   "source": [
    "`Segmenter` является оберткой <a href=\"https://github.com/natasha/razdel\">Razdel</a>, у него два метода `tokenize` and `sentenize`:"
   ],
   "metadata": {}
  },
  {
   "cell_type": "code",
   "execution_count": 24,
   "source": [
    "tokens = list(segmenter.tokenize('Кружка-термос на 0.5л (50/64 см³, 516;...)'))\n",
    "for token in tokens[:5]:\n",
    "    print(token)"
   ],
   "outputs": [
    {
     "output_type": "stream",
     "name": "stdout",
     "text": [
      "Token(start=0, stop=13, text='Кружка-термос')\n",
      "Token(start=14, stop=16, text='на')\n",
      "Token(start=17, stop=20, text='0.5')\n",
      "Token(start=20, stop=21, text='л')\n",
      "Token(start=22, stop=23, text='(')\n"
     ]
    }
   ],
   "metadata": {}
  },
  {
   "cell_type": "code",
   "execution_count": 25,
   "source": [
    "text = '''\n",
    "- \"Так в чем же дело?\" - \"Не ра-ду-ют\".\n",
    " И т. д. и т. п. В общем, вся газета\n",
    "'''\n",
    "sents = list(segmenter.sentenize(text))\n",
    "for sent in sents:\n",
    "    print(sent)"
   ],
   "outputs": [
    {
     "output_type": "stream",
     "name": "stdout",
     "text": [
      "Sent(start=1, stop=23, text='- \"Так в чем же дело?\"')\n",
      "Sent(start=24, stop=40, text='- \"Не ра-ду-ют\".')\n",
      "Sent(start=42, stop=57, text='И т. д. и т. п.')\n",
      "Sent(start=58, stop=77, text='В общем, вся газета')\n"
     ]
    }
   ],
   "metadata": {}
  },
  {
   "cell_type": "markdown",
   "source": [
    "## `MorphVocab`"
   ],
   "metadata": {}
  },
  {
   "cell_type": "markdown",
   "source": [
    "`MorphVocab` является оберткой для <a href=\"pymorphy2.readthedocs.io/en/latest/\">Pymorphy2</a>."
   ],
   "metadata": {}
  },
  {
   "cell_type": "code",
   "execution_count": 26,
   "source": [
    "forms = morph_vocab('стали')\n",
    "forms"
   ],
   "outputs": [
    {
     "output_type": "execute_result",
     "data": {
      "text/plain": [
       "[MorphForm(normal='стать', pos='VERB', feats={'VerbForm': 'Fin', 'Aspect': 'Perf', 'Number': 'Plur', 'Tense': 'Past', 'Mood': 'Ind'}),\n",
       " MorphForm(normal='сталь', pos='NOUN', feats={'Animacy': 'Inan', 'Gender': 'Fem', 'Number': 'Sing', 'Case': 'Gen'}),\n",
       " MorphForm(normal='сталь', pos='NOUN', feats={'Animacy': 'Inan', 'Gender': 'Fem', 'Number': 'Plur', 'Case': 'Nom'}),\n",
       " MorphForm(normal='сталь', pos='NOUN', feats={'Animacy': 'Inan', 'Gender': 'Fem', 'Number': 'Sing', 'Case': 'Dat'}),\n",
       " MorphForm(normal='сталь', pos='NOUN', feats={'Animacy': 'Inan', 'Gender': 'Fem', 'Number': 'Sing', 'Case': 'Loc'}),\n",
       " MorphForm(normal='сталь', pos='NOUN', feats={'Animacy': 'Inan', 'Gender': 'Fem', 'Number': 'Plur', 'Case': 'Acc'})]"
      ]
     },
     "metadata": {},
     "execution_count": 26
    }
   ],
   "metadata": {}
  },
  {
   "cell_type": "code",
   "execution_count": 27,
   "source": [
    "\n",
    "morph_vocab.__call__.cache_info()"
   ],
   "outputs": [
    {
     "output_type": "execute_result",
     "data": {
      "text/plain": [
       "CacheInfo(hits=210, misses=638, maxsize=10000, currsize=638)"
      ]
     },
     "metadata": {},
     "execution_count": 27
    }
   ],
   "metadata": {}
  },
  {
   "cell_type": "markdown",
   "source": [
    "Также `MorphVocab` добавляет методы `lemmatize`. Учитывая `pos` и `feats` он выбирает наиболее подходящую форму морфа и возвращает свое нормальное поле:"
   ],
   "metadata": {}
  },
  {
   "cell_type": "code",
   "execution_count": 31,
   "source": [
    "morph_vocab.lemmatize('стали', 'VERB', {})"
   ],
   "outputs": [
    {
     "output_type": "execute_result",
     "data": {
      "text/plain": [
       "'стать'"
      ]
     },
     "metadata": {},
     "execution_count": 31
    }
   ],
   "metadata": {}
  },
  {
   "cell_type": "code",
   "execution_count": 32,
   "source": [
    "morph_vocab.lemmatize('стали', 'X', {'Case': 'Gen'})"
   ],
   "outputs": [
    {
     "output_type": "execute_result",
     "data": {
      "text/plain": [
       "'сталь'"
      ]
     },
     "metadata": {},
     "execution_count": 32
    }
   ],
   "metadata": {}
  },
  {
   "cell_type": "markdown",
   "source": [
    "## `Embedding`"
   ],
   "metadata": {}
  },
  {
   "cell_type": "markdown",
   "source": [
    "`Embedding` это обертка для <a href=\"https://github.com/natasha/navec/\">Navec</a> "
   ],
   "metadata": {}
  },
  {
   "cell_type": "code",
   "execution_count": 33,
   "source": [
    "print('Words in vocab + 2 for pad and unk: %d' % len(emb.vocab.words) )"
   ],
   "outputs": [
    {
     "output_type": "stream",
     "name": "stdout",
     "text": [
      "Words in vocab + 2 for pad and unk: 250002\n"
     ]
    }
   ],
   "metadata": {}
  },
  {
   "cell_type": "code",
   "execution_count": 34,
   "source": [
    "emb['навек'][:10]"
   ],
   "outputs": [
    {
     "output_type": "execute_result",
     "data": {
      "text/plain": [
       "array([ 0.3309305 ,  0.18249014,  0.23347412,  0.14935994, -0.17402406,\n",
       "       -0.47864223, -0.24524143,  0.15673256, -0.08669729, -0.11727095],\n",
       "      dtype=float32)"
      ]
     },
     "metadata": {},
     "execution_count": 34
    }
   ],
   "metadata": {}
  },
  {
   "cell_type": "markdown",
   "source": [
    "## `MorphTagger`"
   ],
   "metadata": {}
  },
  {
   "cell_type": "markdown",
   "source": [
    "`MorphTagger` обертка <a href=\"https://github.com/natasha/slovnet\">Slovnet morphology tagger</a>. "
   ],
   "metadata": {}
  },
  {
   "cell_type": "code",
   "execution_count": 35,
   "source": [
    "words = ['Европейский', 'союз', 'добавил', 'в', 'санкционный', 'список', 'девять', 'политических', 'деятелей']\n",
    "markup = morph_tagger(words)\n",
    "markup.print()"
   ],
   "outputs": [
    {
     "output_type": "stream",
     "name": "stdout",
     "text": [
      "         Европейский ADJ|Case=Nom|Degree=Pos|Gender=Masc|Number=Sing\n",
      "                союз NOUN|Animacy=Inan|Case=Nom|Gender=Masc|Number=Sing\n",
      "             добавил VERB|Aspect=Perf|Gender=Masc|Mood=Ind|Number=Sing|Tense=Past|VerbForm=Fin|Voice=Act\n",
      "                   в ADP\n",
      "         санкционный ADJ|Animacy=Inan|Case=Acc|Degree=Pos|Gender=Masc|Number=Sing\n",
      "              список NOUN|Animacy=Inan|Case=Acc|Gender=Masc|Number=Sing\n",
      "              девять NUM|Case=Nom\n",
      "        политических ADJ|Case=Gen|Degree=Pos|Number=Plur\n",
      "            деятелей NOUN|Animacy=Anim|Case=Gen|Gender=Masc|Number=Plur\n"
     ]
    }
   ],
   "metadata": {}
  },
  {
   "cell_type": "markdown",
   "source": [
    "## `SyntaxParser`"
   ],
   "metadata": {}
  },
  {
   "cell_type": "markdown",
   "source": [
    "`SyntaxParser` обертка <a href=\"https://github.com/natasha/slovnet\">Slovnet syntax parser</a>. \n"
   ],
   "metadata": {}
  },
  {
   "cell_type": "code",
   "execution_count": 36,
   "source": [
    "words = ['Европейский', 'союз', 'добавил', 'в', 'санкционный', 'список', 'девять', 'политических', 'деятелей']\n",
    "markup = syntax_parser(words)\n",
    "markup.print()"
   ],
   "outputs": [
    {
     "output_type": "stream",
     "name": "stdout",
     "text": [
      "      ┌► Европейский  amod\n",
      "    ┌►└─ союз         nsubj\n",
      "  ┌─└─── добавил      \n",
      "  │ ┌──► в            case\n",
      "  │ │ ┌► санкционный  amod\n",
      "┌─└►└─└─ список       obl\n",
      "│   ┌──► девять       nummod:gov\n",
      "│   │ ┌► политических amod\n",
      "└──►└─└─ деятелей     nmod\n"
     ]
    }
   ],
   "metadata": {}
  },
  {
   "cell_type": "markdown",
   "source": [
    "## `NERTagger`"
   ],
   "metadata": {}
  },
  {
   "cell_type": "markdown",
   "source": [
    "`NERTagger` обертка <a href=\"https://github.com/natasha/slovnet\">Slovnet NER tagger</a>. Процесс схожий `MorphTagger` только без разделения на токены"
   ],
   "metadata": {}
  },
  {
   "cell_type": "code",
   "execution_count": 22,
   "source": [
    "text = 'Посол Израиля на Украине Йоэль Лион признался, что пришел в шок, узнав о решении властей Львовской области объявить 2019 год годом лидера запрещенной в России Организации украинских националистов (ОУН) Степана Бандеры. Свое заявление он разместил в Twitter. 11 декабря Львовский областной совет принял решение провозгласить 2019 год в регионе годом Степана Бандеры в связи с празднованием 110-летия со дня рождения лидера ОУН (Бандера родился 1 января 1909 года).'\n",
    "markup = ner_tagger(text)\n",
    "markup.print()"
   ],
   "outputs": [
    {
     "output_type": "stream",
     "name": "stdout",
     "text": [
      "Посол Израиля на Украине Йоэль Лион признался, что пришел в шок, узнав\n",
      "      LOC────    LOC──── PER───────                                   \n",
      " о решении властей Львовской области объявить 2019 год годом лидера \n",
      "                   LOC──────────────                                \n",
      "запрещенной в России Организации украинских националистов (ОУН) \n",
      "              LOC─── ORG─────────────────────────────────────── \n",
      "Степана Бандеры. Свое заявление он разместил в Twitter. 11 декабря \n",
      "PER────────────                                ORG────             \n",
      "Львовский областной совет принял решение провозгласить 2019 год в \n",
      "ORG──────────────────────                                         \n",
      "регионе годом Степана Бандеры в связи с празднованием 110-летия со дня\n",
      "              PER────────────                                         \n",
      " рождения лидера ОУН (Бандера родился 1 января 1909 года).\n",
      "                 ORG                                      \n"
     ]
    }
   ],
   "metadata": {}
  },
  {
   "cell_type": "markdown",
   "source": [
    "## `Extractor`"
   ],
   "metadata": {}
  },
  {
   "cell_type": "markdown",
   "source": [
    "В библиотеке собраны правила для разбора дат, сумм денег и адресов"
   ],
   "metadata": {}
  },
  {
   "cell_type": "markdown",
   "source": [
    "### `DatesExtractor`"
   ],
   "metadata": {}
  },
  {
   "cell_type": "code",
   "execution_count": 37,
   "source": [
    "text = '24.01.2017, 2015 год, 2014 г, 1 апреля, май 2017 г., 9 мая 2017 года'\n",
    "list(dates_extractor(text))"
   ],
   "outputs": [
    {
     "output_type": "execute_result",
     "data": {
      "text/plain": [
       "[Match(\n",
       "     start=0,\n",
       "     stop=10,\n",
       "     fact=Date(\n",
       "         year=2017,\n",
       "         month=1,\n",
       "         day=24\n",
       "     )\n",
       " ),\n",
       " Match(\n",
       "     start=12,\n",
       "     stop=20,\n",
       "     fact=Date(\n",
       "         year=2015,\n",
       "         month=None,\n",
       "         day=None\n",
       "     )\n",
       " ),\n",
       " Match(\n",
       "     start=22,\n",
       "     stop=28,\n",
       "     fact=Date(\n",
       "         year=2014,\n",
       "         month=None,\n",
       "         day=None\n",
       "     )\n",
       " ),\n",
       " Match(\n",
       "     start=30,\n",
       "     stop=38,\n",
       "     fact=Date(\n",
       "         year=None,\n",
       "         month=4,\n",
       "         day=1\n",
       "     )\n",
       " ),\n",
       " Match(\n",
       "     start=40,\n",
       "     stop=51,\n",
       "     fact=Date(\n",
       "         year=2017,\n",
       "         month=5,\n",
       "         day=None\n",
       "     )\n",
       " ),\n",
       " Match(\n",
       "     start=53,\n",
       "     stop=68,\n",
       "     fact=Date(\n",
       "         year=2017,\n",
       "         month=5,\n",
       "         day=9\n",
       "     )\n",
       " )]"
      ]
     },
     "metadata": {},
     "execution_count": 37
    }
   ],
   "metadata": {}
  },
  {
   "cell_type": "markdown",
   "source": [
    "### `MoneyExtractor`"
   ],
   "metadata": {}
  },
  {
   "cell_type": "code",
   "execution_count": 38,
   "source": [
    "text = '1 599 059, 38 Евро, 420 долларов, 20 млн руб, 20 т. р., 881 913 (Восемьсот восемьдесят одна тысяча девятьсот тринадцать) руб. 98 коп.'\n",
    "list(money_extractor(text))"
   ],
   "outputs": [
    {
     "output_type": "execute_result",
     "data": {
      "text/plain": [
       "[Match(\n",
       "     start=0,\n",
       "     stop=18,\n",
       "     fact=Money(\n",
       "         amount=1599059.38,\n",
       "         currency='EUR'\n",
       "     )\n",
       " ),\n",
       " Match(\n",
       "     start=20,\n",
       "     stop=32,\n",
       "     fact=Money(\n",
       "         amount=420,\n",
       "         currency='USD'\n",
       "     )\n",
       " ),\n",
       " Match(\n",
       "     start=34,\n",
       "     stop=44,\n",
       "     fact=Money(\n",
       "         amount=20000000,\n",
       "         currency='RUB'\n",
       "     )\n",
       " ),\n",
       " Match(\n",
       "     start=46,\n",
       "     stop=54,\n",
       "     fact=Money(\n",
       "         amount=20000,\n",
       "         currency='RUB'\n",
       "     )\n",
       " ),\n",
       " Match(\n",
       "     start=56,\n",
       "     stop=133,\n",
       "     fact=Money(\n",
       "         amount=881913.98,\n",
       "         currency='RUB'\n",
       "     )\n",
       " )]"
      ]
     },
     "metadata": {},
     "execution_count": 38
    }
   ],
   "metadata": {}
  },
  {
   "cell_type": "markdown",
   "source": [
    "### `NamesExtractor`"
   ],
   "metadata": {}
  },
  {
   "cell_type": "code",
   "execution_count": 39,
   "source": [
    "lines = [\n",
    "    'Мустафа Джемилев',\n",
    "    'О. Дерипаска',\n",
    "    'Фёдор Иванович Шаляпин',\n",
    "    'Янукович'\n",
    "]\n",
    "for line in lines:\n",
    "    display(names_extractor.find(line))"
   ],
   "outputs": [
    {
     "output_type": "display_data",
     "data": {
      "text/plain": [
       "Match(\n",
       "    start=0,\n",
       "    stop=16,\n",
       "    fact=Name(\n",
       "        first='Мустафа',\n",
       "        last='Джемилев',\n",
       "        middle=None\n",
       "    )\n",
       ")"
      ]
     },
     "metadata": {}
    },
    {
     "output_type": "display_data",
     "data": {
      "text/plain": [
       "Match(\n",
       "    start=0,\n",
       "    stop=1,\n",
       "    fact=Name(\n",
       "        first=None,\n",
       "        last='О',\n",
       "        middle=None\n",
       "    )\n",
       ")"
      ]
     },
     "metadata": {}
    },
    {
     "output_type": "display_data",
     "data": {
      "text/plain": [
       "Match(\n",
       "    start=0,\n",
       "    stop=22,\n",
       "    fact=Name(\n",
       "        first='Фёдор',\n",
       "        last='Шаляпин',\n",
       "        middle='Иванович'\n",
       "    )\n",
       ")"
      ]
     },
     "metadata": {}
    },
    {
     "output_type": "display_data",
     "data": {
      "text/plain": [
       "Match(\n",
       "    start=0,\n",
       "    stop=8,\n",
       "    fact=Name(\n",
       "        first=None,\n",
       "        last='Янукович',\n",
       "        middle=None\n",
       "    )\n",
       ")"
      ]
     },
     "metadata": {}
    }
   ],
   "metadata": {}
  },
  {
   "cell_type": "markdown",
   "source": [
    "### `AddrExtractor`"
   ],
   "metadata": {}
  },
  {
   "cell_type": "code",
   "execution_count": 40,
   "source": [
    "lines = [\n",
    "    'Россия, Вологодская обл. г. Череповец, пр.Победы 93 б',\n",
    "    '692909, РФ, Приморский край, г. Находка, ул. Добролюбова, 18',\n",
    "    'ул. Народного Ополчения д. 9к.3'\n",
    "]\n",
    "for line in lines:\n",
    "    display(addr_extractor.find(line))"
   ],
   "outputs": [
    {
     "output_type": "display_data",
     "data": {
      "text/plain": [
       "Match(\n",
       "    start=0,\n",
       "    stop=48,\n",
       "    fact=Addr(\n",
       "        parts=[AddrPart(\n",
       "             value='Россия',\n",
       "             type='страна'\n",
       "         ),\n",
       "         AddrPart(\n",
       "             value='Вологодская',\n",
       "             type='область'\n",
       "         ),\n",
       "         AddrPart(\n",
       "             value='Череповец',\n",
       "             type='город'\n",
       "         ),\n",
       "         AddrPart(\n",
       "             value='Победы',\n",
       "             type='проспект'\n",
       "         )]\n",
       "    )\n",
       ")"
      ]
     },
     "metadata": {}
    },
    {
     "output_type": "display_data",
     "data": {
      "text/plain": [
       "Match(\n",
       "    start=0,\n",
       "    stop=56,\n",
       "    fact=Addr(\n",
       "        parts=[AddrPart(\n",
       "             value='692909',\n",
       "             type='индекс'\n",
       "         ),\n",
       "         AddrPart(\n",
       "             value='РФ',\n",
       "             type='страна'\n",
       "         ),\n",
       "         AddrPart(\n",
       "             value='Приморский',\n",
       "             type='край'\n",
       "         ),\n",
       "         AddrPart(\n",
       "             value='Находка',\n",
       "             type='город'\n",
       "         ),\n",
       "         AddrPart(\n",
       "             value='Добролюбова',\n",
       "             type='улица'\n",
       "         )]\n",
       "    )\n",
       ")"
      ]
     },
     "metadata": {}
    },
    {
     "output_type": "display_data",
     "data": {
      "text/plain": [
       "Match(\n",
       "    start=0,\n",
       "    stop=29,\n",
       "    fact=Addr(\n",
       "        parts=[AddrPart(\n",
       "             value='Народного Ополчения',\n",
       "             type='улица'\n",
       "         ),\n",
       "         AddrPart(\n",
       "             value='9к',\n",
       "             type='дом'\n",
       "         )]\n",
       "    )\n",
       ")"
      ]
     },
     "metadata": {}
    }
   ],
   "metadata": {}
  }
 ],
 "metadata": {
  "kernelspec": {
   "name": "python3",
   "display_name": "Python 3.9.6 64-bit ('DS': conda)"
  },
  "language_info": {
   "codemirror_mode": {
    "name": "ipython",
    "version": 3
   },
   "file_extension": ".py",
   "mimetype": "text/x-python",
   "name": "python",
   "nbconvert_exporter": "python",
   "pygments_lexer": "ipython3",
   "version": "3.9.6"
  },
  "interpreter": {
   "hash": "6b10eaa10409a3bcf6bff05ff5b6926e5f31d8afb0947ca0f59325e20e2bdee0"
  }
 },
 "nbformat": 4,
 "nbformat_minor": 2
}